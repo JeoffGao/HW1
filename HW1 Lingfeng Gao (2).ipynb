{
 "cells": [
  {
   "cell_type": "markdown",
   "metadata": {},
   "source": [
    "## MAE 6286 HW1       Implement the Solution                       Lingfeng Gao"
   ]
  },
  {
   "cell_type": "code",
   "execution_count": 83,
   "metadata": {},
   "outputs": [
    {
     "name": "stdout",
     "output_type": "stream",
     "text": [
      "[   0.            1.26387702    2.53651956 ... -113.92261237 -113.92656214\n",
      " -113.93047832]\n",
      "[ 0.00000000e+00  3.14875000e-02  1.26387798e-01 ... -2.44087882e+03\n",
      " -2.44657505e+03 -2.45227148e+03]\n"
     ]
    }
   ],
   "source": [
    "import math\n",
    "import numpy\n",
    "\n",
    "\n",
    "m_s = 50  # Weight of the rocket shell, kg\n",
    "g = 9.81  # m/s^2\n",
    "rho = 1.091  # average air density, kg/m^3\n",
    "r = 0.5  # m\n",
    "A = math.pi * r * r  # m^2\n",
    "v_e = 350  # m/s\n",
    "C_D = 0.21  # Drag coefficient\n",
    "mp0 = 150  # kg\n",
    "\n",
    "def mp(t):\n",
    "    if t < 4:\n",
    "        mpt = 20\n",
    "        total = 150 - mpt * t\n",
    "    else:\n",
    "        mpt = 0\n",
    "        total = 150 - 4*20 - mpt * t\n",
    "    return total\n",
    "\n",
    "\n",
    "def rhs_phugoid(t, u, m_s, g, rho, A, v_e, C_D, mp, mp1):\n",
    "    h, v = u\n",
    "    rhs = numpy.array([v,-g + mp1(t) * v_e / (m_s + mp(t)) - 0.5 * rho * v * numpy.abs(v) * A * C_D / (m_s + mp(t))])\n",
    "    return rhs\n",
    "\n",
    "def rk2_step(t, u, f, delta_t, *args):\n",
    "    u_s = u + 0.5 * delta_t * f(t, u, *args)\n",
    "    \n",
    "    u_n = u + delta_t * f(t + 0.5*delta_t, u_s, *args)\n",
    "    \n",
    "    return u_n\n",
    "\n",
    "T = 50\n",
    "delta_t = 0.05  # s\n",
    "\n",
    "\n",
    "u_rk2 = numpy.empty((N,2))\n",
    "u_rk2[0] = numpy.array([h0,v0])\n",
    "t = []\n",
    "\n",
    "for n in range(N-1):\n",
    "    u_rk2[n + 1] = rk2_step(n*delta_t, u_rk2[n], rhs_phugoid, delta_t,m_s, g, rho, A, v_e, C_D, mp, mp1 )\n",
    "    t.append(n * delta_t)\n",
    "    \n",
    "t.append(T)\n",
    "t = numpy.array(t)\n",
    "\n",
    "v_rk2 = u_rk2[:, 1]\n",
    "h_rk2 = u_rk2[:, 0]\n",
    "\n",
    "print(v_rk2)\n",
    "print(h_rk2)"
   ]
  },
  {
   "cell_type": "markdown",
   "metadata": {},
   "source": [
    "## Assessment"
   ]
  },
  {
   "cell_type": "markdown",
   "metadata": {},
   "source": [
    "## Q1"
   ]
  },
  {
   "cell_type": "code",
   "execution_count": 54,
   "metadata": {},
   "outputs": [
    {
     "data": {
      "image/png": "[encoded data removed]",
      "text/plain": [
       "<Figure size 432x288 with 1 Axes>"
      ]
     },
     "metadata": {
      "needs_background": "light"
     },
     "output_type": "display_data"
    }
   ],
   "source": [
    "pyplot.xlabel('t')  # s\n",
    "pyplot.ylabel('h/v')  # m/s\n",
    "pyplot.plot(t, h_rk2,label='h/t')\n",
    "pyplot.plot(t, v_rk2,label='v/t')\n",
    "\n",
    "pyplot.legend();"
   ]
  },
  {
   "cell_type": "markdown",
   "metadata": {},
   "source": [
    "## Q2   t = 15.2 s"
   ]
  },
  {
   "cell_type": "code",
   "execution_count": 55,
   "metadata": {},
   "outputs": [
    {
     "data": {
      "text/plain": [
       "70.0"
      ]
     },
     "execution_count": 55,
     "metadata": {},
     "output_type": "execute_result"
    }
   ],
   "source": [
    "t = 15.2\n",
    "\n",
    "mp(15.2)"
   ]
  },
  {
   "cell_type": "markdown",
   "metadata": {},
   "source": [
    "## Q3 v_max t_vmax h_vmax"
   ]
  },
  {
   "cell_type": "code",
   "execution_count": 82,
   "metadata": {},
   "outputs": [
    {
     "name": "stdout",
     "output_type": "stream",
     "text": [
      "126.74103191459848\n"
     ]
    }
   ],
   "source": [
    "print(max(v_rk2))"
   ]
  },
  {
   "cell_type": "code",
   "execution_count": 84,
   "metadata": {},
   "outputs": [
    {
     "name": "stdout",
     "output_type": "stream",
     "text": [
      "4.0\n"
     ]
    }
   ],
   "source": [
    "t_vmax = delta_t * 80\n",
    "print(t_vmax)"
   ]
  },
  {
   "cell_type": "code",
   "execution_count": 73,
   "metadata": {},
   "outputs": [
    {
     "name": "stdout",
     "output_type": "stream",
     "text": [
      "237.69277007020102\n"
     ]
    }
   ],
   "source": [
    "h_vmax = u_rk2[ 80 , 0]\n",
    "print(h_vmax)"
   ]
  },
  {
   "cell_type": "markdown",
   "metadata": {},
   "source": [
    "## Q4"
   ]
  },
  {
   "cell_type": "code",
   "execution_count": 74,
   "metadata": {
    "scrolled": true
   },
   "outputs": [
    {
     "name": "stdout",
     "output_type": "stream",
     "text": [
      "771.8390856154841\n"
     ]
    }
   ],
   "source": [
    "max(h_rk2)\n",
    "h_max = max(h_rk2)\n",
    "print(h_max)"
   ]
  },
  {
   "cell_type": "code",
   "execution_count": 61,
   "metadata": {},
   "outputs": [
    {
     "name": "stdout",
     "output_type": "stream",
     "text": [
      "275\n"
     ]
    }
   ],
   "source": [
    "cc = numpy.array(h_rk2)\n",
    "dd = cc.tolist()\n",
    "dd.index(max(dd))\n",
    "W = dd.index(max(dd))\n",
    "print(W)"
   ]
  },
  {
   "cell_type": "code",
   "execution_count": 62,
   "metadata": {},
   "outputs": [
    {
     "name": "stdout",
     "output_type": "stream",
     "text": [
      "13.75\n"
     ]
    }
   ],
   "source": [
    "t_hmax = W * delta_t\n",
    "print(t_hmax)"
   ]
  },
  {
   "cell_type": "markdown",
   "metadata": {},
   "source": [
    "## Q5"
   ]
  },
  {
   "cell_type": "code",
   "execution_count": 63,
   "metadata": {
    "scrolled": true
   },
   "outputs": [
    {
     "name": "stdout",
     "output_type": "stream",
     "text": [
      "551\n"
     ]
    }
   ],
   "source": [
    "idx_negative_rk2 = numpy.where(h_rk2 < 0.0)[0]\n",
    "if len(idx_negative_rk2) == 0:\n",
    "    idx_ground_rk2 = N - 1\n",
    "    print('RK2')\n",
    "else:\n",
    "    idx_ground_rk2 = idx_negative_rk2[0]\n",
    "print(idx_ground_rk2)"
   ]
  },
  {
   "cell_type": "code",
   "execution_count": 64,
   "metadata": {
    "scrolled": false
   },
   "outputs": [
    {
     "name": "stdout",
     "output_type": "stream",
     "text": [
      "27.536566778701438\n"
     ]
    }
   ],
   "source": [
    "t_impact1 = idx_ground_rk2 * delta_t\n",
    "v_impact1 = u_rk2[idx_ground_rk2 , 1]\n",
    "t_impact2 = (idx_ground_rk2 - 1) * delta_t\n",
    "v_impact2 = u_rk2[idx_ground_rk2 - 1, 1]\n",
    "kv = (v_impact1 - v_impact2) / (t_impact1 - t_impact2)\n",
    "bv = v_impact1 - kv * t_impact1\n",
    "h_impact1 = u_rk2[idx_ground_rk2, 0]\n",
    "h_impact2 = u_rk2[idx_ground_rk2 - 1, 0]\n",
    "kh = (h_impact1 - h_impact2) / (t_impact1 - t_impact2)\n",
    "bh = h_impact1 - kh * t_impact1\n",
    "t_impact = - bh / kh\n",
    "print(t_impact)"
   ]
  },
  {
   "cell_type": "code",
   "execution_count": 45,
   "metadata": {},
   "outputs": [
    {
     "name": "stdout",
     "output_type": "stream",
     "text": [
      "-94.71896763040564\n"
     ]
    }
   ],
   "source": [
    "v_impact = t_impact * kv + bv\n",
    "print(v_impact)"
   ]
  }
 ],
 "metadata": {
  "kernelspec": {
   "display_name": "Python 3",
   "language": "python",
   "name": "python3"
  },
  "language_info": {
   "codemirror_mode": {
    "name": "ipython",
    "version": 3
   },
   "file_extension": ".py",
   "mimetype": "text/x-python",
   "name": "python",
   "nbconvert_exporter": "python",
   "pygments_lexer": "ipython3",
   "version": "3.8.5"
  }
 },
 "nbformat": 4,
 "nbformat_minor": 4
}
