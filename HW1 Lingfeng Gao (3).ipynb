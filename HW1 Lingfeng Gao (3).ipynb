{
 "cells": [
  {
   "cell_type": "markdown",
   "metadata": {},
   "source": [
    "## MAE 6286 HW1       Implement the Solution                       Lingfeng Gao"
   ]
  },
  {
   "cell_type": "code",
   "execution_count": 221,
   "metadata": {},
   "outputs": [
    {
     "name": "stdout",
     "output_type": "stream",
     "text": [
      "[   0.            1.26387702    2.53651956 ... -113.92261237 -113.92656214\n",
      " -113.93047832]\n",
      "[ 0.00000000e+00  3.14875000e-02  1.26387798e-01 ... -2.44087882e+03\n",
      " -2.44657505e+03 -2.45227148e+03]\n"
     ]
    }
   ],
   "source": [
    "import math \n",
    "import numpy\n",
    "import matplotlib.pyplot as pyplot\n",
    "%matplotlib inline\n",
    "\n",
    "# Set parameters\n",
    "\n",
    "m_s = 50  # Weight of the rocket shell, kg\n",
    "g = 9.81  # m/s^2\n",
    "rho = 1.091  # average air density, kg/m^3\n",
    "r = 0.5  # m\n",
    "A = math.pi * r * r  # m^2\n",
    "v_e = 350  # m/s\n",
    "C_D = 0.21  # Drag coefficient\n",
    "mp0 = 150  # kg\n",
    "\n",
    "def mp(t):\n",
    "    if t < 4:\n",
    "        mpt = 20\n",
    "        total = 150 - mpt * t\n",
    "    else:\n",
    "        mpt = 0\n",
    "        total = 150 - 4*20 - mpt * t\n",
    "    return total\n",
    "\n",
    "\n",
    "def rhs_phugoid(t, u, m_s, g, rho, A, v_e, C_D, mp, mp1):\n",
    "    h, v = u\n",
    "    rhs = numpy.array([v,-g + mp1(t) * v_e / (m_s + mp(t)) - 0.5 * rho * v * numpy.abs(v) * A * C_D / (m_s + mp(t))])\n",
    "    return rhs\n",
    "\n",
    "def rk2_step(t, u, f, delta_t, *args):\n",
    "    u_star = u + 0.5 * delta_t * f(t, u, *args)\n",
    "    \n",
    "    u_new = u + delta_t * f(t + 0.5*delta_t, u_star, *args)\n",
    "    \n",
    "    return u_new\n",
    "\n",
    "T = 50\n",
    "delta_t = 0.05  # s\n",
    "\n",
    "\n",
    "u_rk2 = numpy.empty((N,2))\n",
    "u_rk2[0] = numpy.array([h0,v0])\n",
    "t = []\n",
    "\n",
    "for n in range(N-1):\n",
    "    u_rk2[n + 1] = rk2_step(n*delta_t, u_rk2[n], rhs_phugoid, delta_t,m_s, g, rho, A, v_e, C_D, mp, mp1 )\n",
    "    t.append(n * delta_t)\n",
    "    \n",
    "t.append(T)\n",
    "t = numpy.array(t)\n",
    "\n",
    "v_rk2 = u_rk2[:, 1]\n",
    "h_rk2 = u_rk2[:, 0]\n",
    "\n",
    "print(v_rk2)\n",
    "print(h_rk2)"
   ]
  },
  {
   "cell_type": "markdown",
   "metadata": {},
   "source": [
    "## Assessment"
   ]
  },
  {
   "cell_type": "markdown",
   "metadata": {},
   "source": [
    "## Q1"
   ]
  },
  {
   "cell_type": "code",
   "execution_count": 222,
   "metadata": {},
   "outputs": [
    {
     "data": {
      "image/png": "[encoded data removed]",
      "text/plain": [
       "<Figure size 648x288 with 1 Axes>"
      ]
     },
     "metadata": {
      "needs_background": "light"
     },
     "output_type": "display_data"
    }
   ],
   "source": [
    "# Set the font family and size to use for Matplotlib figures.\n",
    "pyplot.rcParams['font.family'] = 'serif'\n",
    "pyplot.rcParams['font.size'] = 16\n",
    "\n",
    "# Plot the solution of the elevation.\n",
    "pyplot.figure(figsize=(9.0, 4.0))  # set the size of the figure\n",
    "pyplot.title('Q1')  # set the title\n",
    "pyplot.xlabel('t')  # s\n",
    "pyplot.ylabel('h/v')  # m/s\n",
    "pyplot.plot(t, h_rk2,label='h/t')\n",
    "pyplot.plot(t, v_rk2,label='v/t')\n",
    "\n",
    "pyplot.legend();"
   ]
  },
  {
   "cell_type": "markdown",
   "metadata": {},
   "source": [
    "## Q2   t = 15.2 s"
   ]
  },
  {
   "cell_type": "code",
   "execution_count": 223,
   "metadata": {},
   "outputs": [
    {
     "data": {
      "text/plain": [
       "70.0"
      ]
     },
     "execution_count": 223,
     "metadata": {},
     "output_type": "execute_result"
    }
   ],
   "source": [
    "t = 15.2\n",
    "\n",
    "mp(15.2)"
   ]
  },
  {
   "cell_type": "markdown",
   "metadata": {},
   "source": [
    "## Q3 v_max t_vmax h_vmax"
   ]
  },
  {
   "cell_type": "code",
   "execution_count": 224,
   "metadata": {
    "scrolled": true
   },
   "outputs": [
    {
     "name": "stdout",
     "output_type": "stream",
     "text": [
      "126.74103191459848\n"
     ]
    }
   ],
   "source": [
    "print(max(v_rk2))"
   ]
  },
  {
   "cell_type": "code",
   "execution_count": 225,
   "metadata": {},
   "outputs": [
    {
     "name": "stdout",
     "output_type": "stream",
     "text": [
      "t_vmax 4.0\n",
      "h_vmax 237.69277007020102\n"
     ]
    }
   ],
   "source": [
    "listv = v_rk2.tolist()\n",
    "listh = h_rk2.tolist()\n",
    "c1 = listv.index(max(v_rk2))\n",
    "t1 = c1 * delta_t\n",
    "print('t_vmax',t1)\n",
    "print('h_vmax',listh[c1])"
   ]
  },
  {
   "cell_type": "markdown",
   "metadata": {},
   "source": [
    "## Q4"
   ]
  },
  {
   "cell_type": "code",
   "execution_count": 226,
   "metadata": {
    "scrolled": true
   },
   "outputs": [
    {
     "name": "stdout",
     "output_type": "stream",
     "text": [
      "771.8390856154841\n"
     ]
    }
   ],
   "source": [
    "print(max(h_rk2))"
   ]
  },
  {
   "cell_type": "code",
   "execution_count": 227,
   "metadata": {},
   "outputs": [
    {
     "name": "stdout",
     "output_type": "stream",
     "text": [
      "13.75\n"
     ]
    }
   ],
   "source": [
    "d1 = listh.index(max(h_rk2))\n",
    "t1 = d1 * delta_t\n",
    "print(t1)"
   ]
  },
  {
   "cell_type": "markdown",
   "metadata": {},
   "source": [
    "## Q5"
   ]
  },
  {
   "cell_type": "code",
   "execution_count": 228,
   "metadata": {
    "scrolled": true
   },
   "outputs": [
    {
     "name": "stdout",
     "output_type": "stream",
     "text": [
      "551\n"
     ]
    }
   ],
   "source": [
    "# Get the index of the first negative element of h_rk2.\n",
    "\n",
    "idx_negative_rk2 = numpy.where(h_rk2 < 0.0)[0]\n",
    "if len(idx_negative_rk2) == 0:\n",
    "    idx_ground_rk2 = N - 1\n",
    "    print('[RK2] Glider has not touched ground yet!')\n",
    "else:\n",
    "    idx_ground_rk2 = idx_negative_rk2[0]\n",
    "print(idx_ground_rk2)"
   ]
  },
  {
   "cell_type": "code",
   "execution_count": 229,
   "metadata": {
    "scrolled": false
   },
   "outputs": [
    {
     "name": "stdout",
     "output_type": "stream",
     "text": [
      "27.53658857398108\n"
     ]
    }
   ],
   "source": [
    "t1 = idx_ground_rk2\n",
    "t2 = t1 + 1\n",
    "h1 = listh[t1]\n",
    "h2 = listh[t2]\n",
    "v1 = listv[t1]\n",
    "v2 = listv[t2]\n",
    "t1 = t1 * 0.05\n",
    "t2 = t2 * 0.05\n",
    "th = t1 - h1/v\n",
    "print (th)"
   ]
  },
  {
   "cell_type": "code",
   "execution_count": 220,
   "metadata": {},
   "outputs": [
    {
     "name": "stdout",
     "output_type": "stream",
     "text": [
      "-94.83739230747979\n"
     ]
    }
   ],
   "source": [
    "v = (h1 - h2)/(t1-t2)\n",
    "print(v)"
   ]
  }
 ],
 "metadata": {
  "kernelspec": {
   "display_name": "Python 3",
   "language": "python",
   "name": "python3"
  },
  "language_info": {
   "codemirror_mode": {
    "name": "ipython",
    "version": 3
   },
   "file_extension": ".py",
   "mimetype": "text/x-python",
   "name": "python",
   "nbconvert_exporter": "python",
   "pygments_lexer": "ipython3",
   "version": "3.8.5"
  }
 },
 "nbformat": 4,
 "nbformat_minor": 4
}
